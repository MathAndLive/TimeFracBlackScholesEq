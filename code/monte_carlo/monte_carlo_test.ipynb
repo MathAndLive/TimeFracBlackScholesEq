{
 "cells": [
  {
   "cell_type": "code",
   "id": "initial_id",
   "metadata": {
    "collapsed": true,
    "ExecuteTime": {
     "end_time": "2025-07-16T07:40:29.975315Z",
     "start_time": "2025-07-16T07:40:29.972227Z"
    }
   },
   "source": [
    "from code.monte_carlo import monte_carlo\n",
    "from code.finmath1 import BlackScholes"
   ],
   "outputs": [],
   "execution_count": 3
  },
  {
   "metadata": {
    "ExecuteTime": {
     "end_time": "2025-07-16T07:49:59.028745Z",
     "start_time": "2025-07-16T07:49:57.301956Z"
    }
   },
   "cell_type": "code",
   "source": [
    "# Arguments\n",
    "\n",
    "S0 = 100\n",
    "K = 100\n",
    "T = 1.0\n",
    "r = 0.05\n",
    "sigma = 0.2\n",
    "alpha = 0.8\n",
    "N = 5_000_000\n",
    "\n",
    "# Calculate prices\n",
    "\n",
    "price_call = monte_carlo(S0, K, T, r, sigma, alpha, N, call=True)\n",
    "price_put = monte_carlo(S0, K, T, r, sigma, alpha, N, call=False)\n",
    "print(f'(CALL) Monte-Carlo method (alpha = {alpha}) price = {price_call:.4f}')\n",
    "print(f'(PUT) Monte-Carlo method (alpha = {alpha}) price = {price_put:.4f}\\n')\n",
    "\n",
    "alpha_classic = 1.0\n",
    "price_classic_call = monte_carlo(S0, K, T, r, sigma, alpha_classic, N, call=True)\n",
    "price_classic_put = monte_carlo(S0, K, T, r, sigma, alpha_classic, N, call=False)\n",
    "print(f'(CALL) Monte-Carlo method (alpha = {alpha_classic}) price = {price_classic_call:.4f}')\n",
    "print(f'(PUT) Monte-Carlo method (alpha = {alpha_classic}) price = {price_classic_put:.4f}\\n')\n",
    "\n",
    "model = BlackScholes(sigma, r)\n",
    "print(f'(CALL) Analytic solution (alpha = 1.0) price = {model.call_price(S0, T, K):.4f}')\n",
    "print(f'(PUT) Analytic solution (alpha = 1.0) price = {model.put_price(S0, T, K):.4f}\\n')"
   ],
   "id": "79c78e078f30222c",
   "outputs": [
    {
     "name": "stdout",
     "output_type": "stream",
     "text": [
      "(CALL) Monte-Carlo method (alpha = 0.8) price = 10.6016\n",
      "(PUT) Monte-Carlo method (alpha = 0.8) price = 5.4197\n",
      "\n",
      "(CALL) Monte-Carlo method (alpha = 1.0) price = 10.4486\n",
      "(PUT) Monte-Carlo method (alpha = 1.0) price = 5.5634\n",
      "\n",
      "(CALL) Analytic solution (alpha = 1.0) price = 10.4506\n",
      "(PUT) Analytic solution (alpha = 1.0) price = 5.5735\n",
      "\n"
     ]
    }
   ],
   "execution_count": 5
  },
  {
   "metadata": {
    "ExecuteTime": {
     "end_time": "2025-07-16T07:40:31.892176Z",
     "start_time": "2025-07-16T07:40:31.890924Z"
    }
   },
   "cell_type": "code",
   "source": "",
   "id": "570608b59ec9551d",
   "outputs": [],
   "execution_count": null
  }
 ],
 "metadata": {
  "kernelspec": {
   "display_name": "Python 3",
   "language": "python",
   "name": "python3"
  },
  "language_info": {
   "codemirror_mode": {
    "name": "ipython",
    "version": 2
   },
   "file_extension": ".py",
   "mimetype": "text/x-python",
   "name": "python",
   "nbconvert_exporter": "python",
   "pygments_lexer": "ipython2",
   "version": "2.7.6"
  }
 },
 "nbformat": 4,
 "nbformat_minor": 5
}
